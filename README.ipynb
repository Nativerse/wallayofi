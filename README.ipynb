{
  "nbformat": 4,
  "nbformat_minor": 0,
  "metadata": {
    "colab": {
      "provenance": []
    },
    "kernelspec": {
      "name": "python3",
      "display_name": "Python 3"
    },
    "language_info": {
      "name": "python"
    }
  },
  "cells": [
    {
      "cell_type": "code",
      "execution_count": null,
      "metadata": {
        "id": "ihpYJqlEbJa1"
      },
      "outputs": [],
      "source": [
        "import sys\n",
        "!{sys.executable} -m pip install pandas\n",
        "\n",
        "import os\n",
        "import sqlite3\n",
        "import pandas as pd\n"
      ]
    },
    {
      "cell_type": "code",
      "source": [
        "LINE_DELIMITER = '*' * 50\n",
        "\n",
        "\n",
        "def generate_data(conn):\n",
        "    c = conn.cursor()\n",
        "    # create the 'employees' table\n",
        "    c.execute('''CREATE TABLE IF NOT EXISTS employees\n",
        "                 (id INTEGER PRIMARY KEY, name TEXT, department_id INTEGER, salary INTEGER)''')\n",
        "    # create the 'departments' table\n",
        "    c.execute('''CREATE TABLE IF NOT EXISTS departments\n",
        "                 (id INTEGER PRIMARY KEY, department_name TEXT)''')\n",
        "    # insert data into the 'departments' table\n",
        "    departments_data = [\n",
        "        (1, \"Human Resources\"),\n",
        "        (2, \"Sales\"),\n",
        "        (3, \"Engineering\")\n",
        "    ]\n",
        "    c.executemany('''INSERT INTO departments (id, department_name) VALUES (?, ?)''', departments_data)\n",
        "    # insert data into the 'employees' table\n",
        "    employees_data = [\n",
        "        (1, \"emp1\", 1, 30000),\n",
        "        (2, \"emp2\", 2, 40000),\n",
        "        (3, \"emp3\", 2, 54000),\n",
        "        (4, \"emp4\", 2, 56000),\n",
        "        (5, \"emp5\", 3, 80000),\n",
        "        (6, \"emp6\", 3, 555555), # Highest paid employee (Engineer)\n",
        "        (7, \"emp7\", 2, 190000)  # Sales employee with outlier salary\n",
        "    ]\n",
        "    c.executemany('''INSERT INTO employees (id, name, department_id, salary) VALUES (?, ?, ?, ?)''', employees_data)\n",
        "    # save into database\n",
        "    conn.commit()"
      ],
      "metadata": {
        "id": "iwTCtZEce_3a"
      },
      "execution_count": 3,
      "outputs": []
    },
    {
      "cell_type": "code",
      "source": [
        "# [1] create a connection \n",
        "db_file = \"company.db\"\n",
        "if os.path.exists(db_file):\n",
        "  os.remove(db_file)  # just for testing, delete db every time\n",
        "conn = sqlite3.connect(db_file)  # will create db if not exists\n",
        "generate_data(conn)  # generate test data\n",
        "\n",
        "# [2] fetch employees from Sales department where salary > 50000\n",
        "query = \"\"\"SELECT e.name, e.salary, d.department_name\n",
        "            FROM employees e\n",
        "            JOIN departments d ON e.department_id = d.id\n",
        "            -- WHERE d.department_name = 'Sales' AND e.salary > 50000\"\"\"\n",
        "joint_employees_departments = pd.read_sql(query, conn)\n",
        "sales_employees_above_50k = joint_employees_departments.query(\"department_name == 'Sales' and salary > 50000\")\n",
        "print('[2] Employees from Sales with salary above 50000\\n', sales_employees_above_50k.to_string(index=False))\n",
        "print(LINE_DELIMITER)\n",
        "\n",
        "# [3] using pandas interface to calculate average and median salary\n",
        "print(f\"\"\"[3] Calculates the average and median salary of these employees\n",
        "\\tAverage salary:\\t{sales_employees_above_50k['salary'].mean()}\n",
        "\\tMedian salary:\\t{sales_employees_above_50k['salary'].median()}\"\"\")\n",
        "print(LINE_DELIMITER)\n",
        "\n",
        "# [4] group data by department and print the highest earner in each department\n",
        "print(\"[4] Highest earner for each department\")\n",
        "for department, data in joint_employees_departments.groupby(\"department_name\"):\n",
        "    highest_earner = data.nlargest(1, \"salary\")\n",
        "    print(highest_earner.to_string(index=False, header=False))\n",
        "print(LINE_DELIMITER)\n",
        "\n",
        "# [5] find employee with the highest salary in the entire company\n",
        "highest_salary_emp_index = joint_employees_departments[\"salary\"].idxmax()\n",
        "highest_salary_employee = joint_employees_departments.loc[highest_salary_emp_index]\n",
        "print(f\"\"\"[5] Employee with the highest salary in the entire company:\n",
        "\\t{highest_salary_employee['name']} with salary {highest_salary_employee['salary']}\"\"\")\n",
        "\n",
        "# [6] save the results to a csv file\n",
        "sales_employees_above_50k.to_csv(\"sales_employees_salary_above_50k.csv\", index=False)\n",
        "conn.close()"
      ],
      "metadata": {
        "id": "RTA1Sifqfw3w",
        "outputId": "b88cb8b2-3106-4986-870c-1830e0ea5e68",
        "colab": {
          "base_uri": "https://localhost:8080/"
        }
      },
      "execution_count": 5,
      "outputs": [
        {
          "output_type": "stream",
          "name": "stdout",
          "text": [
            "[2] Employees from Sales with salary above 50000\n",
            " name  salary department_name\n",
            "emp3   54000           Sales\n",
            "emp4   56000           Sales\n",
            "emp7  190000           Sales\n",
            "**************************************************\n",
            "[3] Calculates the average and median salary of these employees\n",
            "\tAverage salary:\t100000.0\n",
            "\tMedian salary:\t56000.0\n",
            "**************************************************\n",
            "[4] Highest earner for each department\n",
            "emp6 555555 Engineering\n",
            "emp1 30000 Human Resources\n",
            "emp7 190000 Sales\n",
            "**************************************************\n",
            "[5] Employee with the highest salary in the entire company:\n",
            "\temp6 with salary 555555\n"
          ]
        }
      ]
    }
  ]
}
